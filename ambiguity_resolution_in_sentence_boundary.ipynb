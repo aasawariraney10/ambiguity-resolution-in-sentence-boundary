{
  "cells": [
    {
      "cell_type": "markdown",
      "metadata": {
        "id": "view-in-github",
        "colab_type": "text"
      },
      "source": [
        "<a href=\"https://colab.research.google.com/github/aasawariraney10/ambiguity-resolution-in-sentence-boundary/blob/main/ambiguity_resolution_in_sentence_boundary.ipynb\" target=\"_parent\"><img src=\"https://colab.research.google.com/assets/colab-badge.svg\" alt=\"Open In Colab\"/></a>"
      ]
    },
    {
      "cell_type": "code",
      "execution_count": 1,
      "id": "1d96d95e",
      "metadata": {
        "id": "1d96d95e"
      },
      "outputs": [],
      "source": [
        "import io\n",
        "import numpy as numpy\n",
        "import pandas as pd\n",
        "import numpy as np # linear algebra\n",
        "import pandas as pd # data processing, CSV file I/O (e.g. pd.read_csv)"
      ]
    },
    {
      "cell_type": "code",
      "execution_count": 3,
      "id": "ac864f47",
      "metadata": {
        "id": "ac864f47"
      },
      "outputs": [],
      "source": [
        "from sklearn.feature_extraction.text import CountVectorizer\n",
        "from tensorflow.keras.preprocessing.text import Tokenizer\n",
        "from tensorflow.keras.preprocessing.sequence import pad_sequences\n",
        "from tensorflow.keras.models import Sequential\n",
        "from tensorflow.keras.layers import Dense, Embedding, LSTM, SpatialDropout1D, Bidirectional\n",
        "from sklearn.model_selection import train_test_split\n",
        "from tensorflow.keras.utils import to_categorical\n",
        "import re\n",
        "import random as rn\n",
        "import tensorflow as tf"
      ]
    },
    {
      "cell_type": "code",
      "execution_count": 4,
      "id": "ff4a88d5",
      "metadata": {
        "id": "ff4a88d5"
      },
      "outputs": [],
      "source": [
        "np.random.seed(37)"
      ]
    },
    {
      "cell_type": "code",
      "execution_count": 5,
      "id": "6485f1d0",
      "metadata": {
        "id": "6485f1d0"
      },
      "outputs": [],
      "source": [
        "rn.seed(1254)"
      ]
    },
    {
      "cell_type": "code",
      "execution_count": 6,
      "id": "7c9072f8",
      "metadata": {
        "id": "7c9072f8"
      },
      "outputs": [],
      "source": [
        "tf.random.set_seed(89)"
      ]
    },
    {
      "cell_type": "code",
      "execution_count": 7,
      "id": "0f174a22",
      "metadata": {
        "colab": {
          "base_uri": "https://localhost:8080/",
          "height": 73
        },
        "id": "0f174a22",
        "outputId": "be219825-8291-4451-8812-007d386bb813"
      },
      "outputs": [
        {
          "output_type": "display_data",
          "data": {
            "text/plain": [
              "<IPython.core.display.HTML object>"
            ],
            "text/html": [
              "\n",
              "     <input type=\"file\" id=\"files-1ee889ba-2397-44b5-8ac5-ccaa1b9a7008\" name=\"files[]\" multiple disabled\n",
              "        style=\"border:none\" />\n",
              "     <output id=\"result-1ee889ba-2397-44b5-8ac5-ccaa1b9a7008\">\n",
              "      Upload widget is only available when the cell has been executed in the\n",
              "      current browser session. Please rerun this cell to enable.\n",
              "      </output>\n",
              "      <script>// Copyright 2017 Google LLC\n",
              "//\n",
              "// Licensed under the Apache License, Version 2.0 (the \"License\");\n",
              "// you may not use this file except in compliance with the License.\n",
              "// You may obtain a copy of the License at\n",
              "//\n",
              "//      http://www.apache.org/licenses/LICENSE-2.0\n",
              "//\n",
              "// Unless required by applicable law or agreed to in writing, software\n",
              "// distributed under the License is distributed on an \"AS IS\" BASIS,\n",
              "// WITHOUT WARRANTIES OR CONDITIONS OF ANY KIND, either express or implied.\n",
              "// See the License for the specific language governing permissions and\n",
              "// limitations under the License.\n",
              "\n",
              "/**\n",
              " * @fileoverview Helpers for google.colab Python module.\n",
              " */\n",
              "(function(scope) {\n",
              "function span(text, styleAttributes = {}) {\n",
              "  const element = document.createElement('span');\n",
              "  element.textContent = text;\n",
              "  for (const key of Object.keys(styleAttributes)) {\n",
              "    element.style[key] = styleAttributes[key];\n",
              "  }\n",
              "  return element;\n",
              "}\n",
              "\n",
              "// Max number of bytes which will be uploaded at a time.\n",
              "const MAX_PAYLOAD_SIZE = 100 * 1024;\n",
              "\n",
              "function _uploadFiles(inputId, outputId) {\n",
              "  const steps = uploadFilesStep(inputId, outputId);\n",
              "  const outputElement = document.getElementById(outputId);\n",
              "  // Cache steps on the outputElement to make it available for the next call\n",
              "  // to uploadFilesContinue from Python.\n",
              "  outputElement.steps = steps;\n",
              "\n",
              "  return _uploadFilesContinue(outputId);\n",
              "}\n",
              "\n",
              "// This is roughly an async generator (not supported in the browser yet),\n",
              "// where there are multiple asynchronous steps and the Python side is going\n",
              "// to poll for completion of each step.\n",
              "// This uses a Promise to block the python side on completion of each step,\n",
              "// then passes the result of the previous step as the input to the next step.\n",
              "function _uploadFilesContinue(outputId) {\n",
              "  const outputElement = document.getElementById(outputId);\n",
              "  const steps = outputElement.steps;\n",
              "\n",
              "  const next = steps.next(outputElement.lastPromiseValue);\n",
              "  return Promise.resolve(next.value.promise).then((value) => {\n",
              "    // Cache the last promise value to make it available to the next\n",
              "    // step of the generator.\n",
              "    outputElement.lastPromiseValue = value;\n",
              "    return next.value.response;\n",
              "  });\n",
              "}\n",
              "\n",
              "/**\n",
              " * Generator function which is called between each async step of the upload\n",
              " * process.\n",
              " * @param {string} inputId Element ID of the input file picker element.\n",
              " * @param {string} outputId Element ID of the output display.\n",
              " * @return {!Iterable<!Object>} Iterable of next steps.\n",
              " */\n",
              "function* uploadFilesStep(inputId, outputId) {\n",
              "  const inputElement = document.getElementById(inputId);\n",
              "  inputElement.disabled = false;\n",
              "\n",
              "  const outputElement = document.getElementById(outputId);\n",
              "  outputElement.innerHTML = '';\n",
              "\n",
              "  const pickedPromise = new Promise((resolve) => {\n",
              "    inputElement.addEventListener('change', (e) => {\n",
              "      resolve(e.target.files);\n",
              "    });\n",
              "  });\n",
              "\n",
              "  const cancel = document.createElement('button');\n",
              "  inputElement.parentElement.appendChild(cancel);\n",
              "  cancel.textContent = 'Cancel upload';\n",
              "  const cancelPromise = new Promise((resolve) => {\n",
              "    cancel.onclick = () => {\n",
              "      resolve(null);\n",
              "    };\n",
              "  });\n",
              "\n",
              "  // Wait for the user to pick the files.\n",
              "  const files = yield {\n",
              "    promise: Promise.race([pickedPromise, cancelPromise]),\n",
              "    response: {\n",
              "      action: 'starting',\n",
              "    }\n",
              "  };\n",
              "\n",
              "  cancel.remove();\n",
              "\n",
              "  // Disable the input element since further picks are not allowed.\n",
              "  inputElement.disabled = true;\n",
              "\n",
              "  if (!files) {\n",
              "    return {\n",
              "      response: {\n",
              "        action: 'complete',\n",
              "      }\n",
              "    };\n",
              "  }\n",
              "\n",
              "  for (const file of files) {\n",
              "    const li = document.createElement('li');\n",
              "    li.append(span(file.name, {fontWeight: 'bold'}));\n",
              "    li.append(span(\n",
              "        `(${file.type || 'n/a'}) - ${file.size} bytes, ` +\n",
              "        `last modified: ${\n",
              "            file.lastModifiedDate ? file.lastModifiedDate.toLocaleDateString() :\n",
              "                                    'n/a'} - `));\n",
              "    const percent = span('0% done');\n",
              "    li.appendChild(percent);\n",
              "\n",
              "    outputElement.appendChild(li);\n",
              "\n",
              "    const fileDataPromise = new Promise((resolve) => {\n",
              "      const reader = new FileReader();\n",
              "      reader.onload = (e) => {\n",
              "        resolve(e.target.result);\n",
              "      };\n",
              "      reader.readAsArrayBuffer(file);\n",
              "    });\n",
              "    // Wait for the data to be ready.\n",
              "    let fileData = yield {\n",
              "      promise: fileDataPromise,\n",
              "      response: {\n",
              "        action: 'continue',\n",
              "      }\n",
              "    };\n",
              "\n",
              "    // Use a chunked sending to avoid message size limits. See b/62115660.\n",
              "    let position = 0;\n",
              "    do {\n",
              "      const length = Math.min(fileData.byteLength - position, MAX_PAYLOAD_SIZE);\n",
              "      const chunk = new Uint8Array(fileData, position, length);\n",
              "      position += length;\n",
              "\n",
              "      const base64 = btoa(String.fromCharCode.apply(null, chunk));\n",
              "      yield {\n",
              "        response: {\n",
              "          action: 'append',\n",
              "          file: file.name,\n",
              "          data: base64,\n",
              "        },\n",
              "      };\n",
              "\n",
              "      let percentDone = fileData.byteLength === 0 ?\n",
              "          100 :\n",
              "          Math.round((position / fileData.byteLength) * 100);\n",
              "      percent.textContent = `${percentDone}% done`;\n",
              "\n",
              "    } while (position < fileData.byteLength);\n",
              "  }\n",
              "\n",
              "  // All done.\n",
              "  yield {\n",
              "    response: {\n",
              "      action: 'complete',\n",
              "    }\n",
              "  };\n",
              "}\n",
              "\n",
              "scope.google = scope.google || {};\n",
              "scope.google.colab = scope.google.colab || {};\n",
              "scope.google.colab._files = {\n",
              "  _uploadFiles,\n",
              "  _uploadFilesContinue,\n",
              "};\n",
              "})(self);\n",
              "</script> "
            ]
          },
          "metadata": {}
        },
        {
          "output_type": "stream",
          "name": "stdout",
          "text": [
            "Saving Major Project Dataset.xlsx to Major Project Dataset.xlsx\n"
          ]
        }
      ],
      "source": [
        "from google.colab import files\n",
        "uploaded = files.upload()"
      ]
    },
    {
      "cell_type": "code",
      "execution_count": 8,
      "id": "c12ebd85",
      "metadata": {
        "id": "c12ebd85"
      },
      "outputs": [],
      "source": [
        "import io\n",
        "data = pd.read_excel(io.BytesIO(uploaded['Major Project Dataset.xlsx']))"
      ]
    },
    {
      "cell_type": "code",
      "execution_count": 9,
      "id": "61876554",
      "metadata": {
        "colab": {
          "base_uri": "https://localhost:8080/"
        },
        "id": "61876554",
        "outputId": "2ccadd10-41fb-406a-d608-dc2f28f3c77b"
      },
      "outputs": [
        {
          "output_type": "stream",
          "name": "stdout",
          "text": [
            "                                                      X               Y\n",
            "0     Lol so there's no one who can say when they're...      End Marker\n",
            "1     Mr. Stone suffered fractured ribs and chest cu...       Ambiguous\n",
            "2     Before hitting the pole , Mr. Stone's car brus...       Ambiguous\n",
            "3                            Mr. Vernava was uninjured.       Ambiguous\n",
            "4     One house was without power for about half an ...       Ambiguous\n",
            "...                                                 ...             ...\n",
            "2063  Jesus! Can a man even grab a sandwich before y...  Not End Marker\n",
            "2064  With a face like that? I don't want you lookin...  Not End Marker\n",
            "2065       A waste? Let me tell you something, Arojaz.   Not End Marker\n",
            "2066  He is a mercenary! Did he not already try to c...  Not End Marker\n",
            "2067                   What? Do I have so many already?  Not End Marker\n",
            "\n",
            "[2068 rows x 2 columns]\n"
          ]
        }
      ],
      "source": [
        "print(data)"
      ]
    },
    {
      "cell_type": "code",
      "execution_count": 10,
      "id": "85541cc6",
      "metadata": {
        "id": "85541cc6"
      },
      "outputs": [],
      "source": [
        "data = data[['X','Y']]"
      ]
    },
    {
      "cell_type": "code",
      "execution_count": 11,
      "id": "b74e2b03",
      "metadata": {
        "colab": {
          "base_uri": "https://localhost:8080/"
        },
        "id": "b74e2b03",
        "outputId": "5871a91a-dbfa-4e06-bdbc-07c29ec372d7"
      },
      "outputs": [
        {
          "output_type": "stream",
          "name": "stdout",
          "text": [
            "0       Lol so there's no one who can say when they're...\n",
            "1       Mr. Stone suffered fractured ribs and chest cu...\n",
            "2       Before hitting the pole , Mr. Stone's car brus...\n",
            "3                              Mr. Vernava was uninjured.\n",
            "4       One house was without power for about half an ...\n",
            "                              ...                        \n",
            "2063    Jesus! Can a man even grab a sandwich before y...\n",
            "2064    With a face like that? I don't want you lookin...\n",
            "2065         A waste? Let me tell you something, Arojaz. \n",
            "2066    He is a mercenary! Did he not already try to c...\n",
            "2067                     What? Do I have so many already?\n",
            "Name: X, Length: 2068, dtype: object\n"
          ]
        }
      ],
      "source": [
        "print(data['X'])"
      ]
    },
    {
      "cell_type": "code",
      "execution_count": 12,
      "id": "a14e0191",
      "metadata": {
        "id": "a14e0191"
      },
      "outputs": [],
      "source": [
        "max_fatures = 100\n",
        "tokenizer = Tokenizer(num_words=max_fatures, split=' ')\n",
        "tokenizer.fit_on_texts(data['X'].values)\n",
        "X = tokenizer.texts_to_sequences(data['X'].values)\n",
        "pad_X = pad_sequences(X, maxlen=100)"
      ]
    },
    {
      "cell_type": "code",
      "execution_count": 13,
      "id": "ad3b01c5",
      "metadata": {
        "colab": {
          "base_uri": "https://localhost:8080/"
        },
        "id": "ad3b01c5",
        "outputId": "2e6a3c19-da31-43f7-db57-bf1eca856c9c"
      },
      "outputs": [
        {
          "output_type": "stream",
          "name": "stdout",
          "text": [
            "[[ 0  0  0 ... 48  2 22]\n",
            " [ 0  0  0 ... 24  6 55]\n",
            " [ 0  0  0 ...  3  1 55]\n",
            " ...\n",
            " [ 0  0  0 ...  5 42  7]\n",
            " [ 0  0  0 ...  3  3 37]\n",
            " [ 0  0  0 ... 20 39 71]]\n"
          ]
        }
      ],
      "source": [
        "print(pad_X)"
      ]
    },
    {
      "cell_type": "code",
      "execution_count": 14,
      "id": "d28196c3",
      "metadata": {
        "colab": {
          "base_uri": "https://localhost:8080/"
        },
        "id": "d28196c3",
        "outputId": "34849841-2d3a-4c19-fb1a-3df84494de65"
      },
      "outputs": [
        {
          "output_type": "execute_result",
          "data": {
            "text/plain": [
              "(2068, 100)"
            ]
          },
          "metadata": {},
          "execution_count": 14
        }
      ],
      "source": [
        "pad_X.shape"
      ]
    },
    {
      "cell_type": "code",
      "execution_count": 15,
      "id": "0b2d68d6",
      "metadata": {
        "id": "0b2d68d6"
      },
      "outputs": [],
      "source": [
        "embed_dim = 128\n",
        "lstm_out = 196"
      ]
    },
    {
      "cell_type": "code",
      "execution_count": 17,
      "id": "a99ce593",
      "metadata": {
        "colab": {
          "base_uri": "https://localhost:8080/",
          "height": 290
        },
        "id": "a99ce593",
        "outputId": "552f03bb-b554-471c-a168-4eafa62a3dd9"
      },
      "outputs": [
        {
          "output_type": "display_data",
          "data": {
            "text/plain": [
              "\u001b[1mModel: \"sequential_1\"\u001b[0m\n"
            ],
            "text/html": [
              "<pre style=\"white-space:pre;overflow-x:auto;line-height:normal;font-family:Menlo,'DejaVu Sans Mono',consolas,'Courier New',monospace\"><span style=\"font-weight: bold\">Model: \"sequential_1\"</span>\n",
              "</pre>\n"
            ]
          },
          "metadata": {}
        },
        {
          "output_type": "display_data",
          "data": {
            "text/plain": [
              "┏━━━━━━━━━━━━━━━━━━━━━━━━━━━━━━━━━┳━━━━━━━━━━━━━━━━━━━━━━━━┳━━━━━━━━━━━━━━━┓\n",
              "┃\u001b[1m \u001b[0m\u001b[1mLayer (type)                   \u001b[0m\u001b[1m \u001b[0m┃\u001b[1m \u001b[0m\u001b[1mOutput Shape          \u001b[0m\u001b[1m \u001b[0m┃\u001b[1m \u001b[0m\u001b[1m      Param #\u001b[0m\u001b[1m \u001b[0m┃\n",
              "┡━━━━━━━━━━━━━━━━━━━━━━━━━━━━━━━━━╇━━━━━━━━━━━━━━━━━━━━━━━━╇━━━━━━━━━━━━━━━┩\n",
              "│ embedding_1 (\u001b[38;5;33mEmbedding\u001b[0m)         │ ?                      │   \u001b[38;5;34m0\u001b[0m (unbuilt) │\n",
              "├─────────────────────────────────┼────────────────────────┼───────────────┤\n",
              "│ spatial_dropout1d_1             │ ?                      │             \u001b[38;5;34m0\u001b[0m │\n",
              "│ (\u001b[38;5;33mSpatialDropout1D\u001b[0m)              │                        │               │\n",
              "├─────────────────────────────────┼────────────────────────┼───────────────┤\n",
              "│ bidirectional_1 (\u001b[38;5;33mBidirectional\u001b[0m) │ ?                      │   \u001b[38;5;34m0\u001b[0m (unbuilt) │\n",
              "├─────────────────────────────────┼────────────────────────┼───────────────┤\n",
              "│ dense_1 (\u001b[38;5;33mDense\u001b[0m)                 │ ?                      │   \u001b[38;5;34m0\u001b[0m (unbuilt) │\n",
              "└─────────────────────────────────┴────────────────────────┴───────────────┘\n"
            ],
            "text/html": [
              "<pre style=\"white-space:pre;overflow-x:auto;line-height:normal;font-family:Menlo,'DejaVu Sans Mono',consolas,'Courier New',monospace\">┏━━━━━━━━━━━━━━━━━━━━━━━━━━━━━━━━━┳━━━━━━━━━━━━━━━━━━━━━━━━┳━━━━━━━━━━━━━━━┓\n",
              "┃<span style=\"font-weight: bold\"> Layer (type)                    </span>┃<span style=\"font-weight: bold\"> Output Shape           </span>┃<span style=\"font-weight: bold\">       Param # </span>┃\n",
              "┡━━━━━━━━━━━━━━━━━━━━━━━━━━━━━━━━━╇━━━━━━━━━━━━━━━━━━━━━━━━╇━━━━━━━━━━━━━━━┩\n",
              "│ embedding_1 (<span style=\"color: #0087ff; text-decoration-color: #0087ff\">Embedding</span>)         │ ?                      │   <span style=\"color: #00af00; text-decoration-color: #00af00\">0</span> (unbuilt) │\n",
              "├─────────────────────────────────┼────────────────────────┼───────────────┤\n",
              "│ spatial_dropout1d_1             │ ?                      │             <span style=\"color: #00af00; text-decoration-color: #00af00\">0</span> │\n",
              "│ (<span style=\"color: #0087ff; text-decoration-color: #0087ff\">SpatialDropout1D</span>)              │                        │               │\n",
              "├─────────────────────────────────┼────────────────────────┼───────────────┤\n",
              "│ bidirectional_1 (<span style=\"color: #0087ff; text-decoration-color: #0087ff\">Bidirectional</span>) │ ?                      │   <span style=\"color: #00af00; text-decoration-color: #00af00\">0</span> (unbuilt) │\n",
              "├─────────────────────────────────┼────────────────────────┼───────────────┤\n",
              "│ dense_1 (<span style=\"color: #0087ff; text-decoration-color: #0087ff\">Dense</span>)                 │ ?                      │   <span style=\"color: #00af00; text-decoration-color: #00af00\">0</span> (unbuilt) │\n",
              "└─────────────────────────────────┴────────────────────────┴───────────────┘\n",
              "</pre>\n"
            ]
          },
          "metadata": {}
        },
        {
          "output_type": "display_data",
          "data": {
            "text/plain": [
              "\u001b[1m Total params: \u001b[0m\u001b[38;5;34m0\u001b[0m (0.00 B)\n"
            ],
            "text/html": [
              "<pre style=\"white-space:pre;overflow-x:auto;line-height:normal;font-family:Menlo,'DejaVu Sans Mono',consolas,'Courier New',monospace\"><span style=\"font-weight: bold\"> Total params: </span><span style=\"color: #00af00; text-decoration-color: #00af00\">0</span> (0.00 B)\n",
              "</pre>\n"
            ]
          },
          "metadata": {}
        },
        {
          "output_type": "display_data",
          "data": {
            "text/plain": [
              "\u001b[1m Trainable params: \u001b[0m\u001b[38;5;34m0\u001b[0m (0.00 B)\n"
            ],
            "text/html": [
              "<pre style=\"white-space:pre;overflow-x:auto;line-height:normal;font-family:Menlo,'DejaVu Sans Mono',consolas,'Courier New',monospace\"><span style=\"font-weight: bold\"> Trainable params: </span><span style=\"color: #00af00; text-decoration-color: #00af00\">0</span> (0.00 B)\n",
              "</pre>\n"
            ]
          },
          "metadata": {}
        },
        {
          "output_type": "display_data",
          "data": {
            "text/plain": [
              "\u001b[1m Non-trainable params: \u001b[0m\u001b[38;5;34m0\u001b[0m (0.00 B)\n"
            ],
            "text/html": [
              "<pre style=\"white-space:pre;overflow-x:auto;line-height:normal;font-family:Menlo,'DejaVu Sans Mono',consolas,'Courier New',monospace\"><span style=\"font-weight: bold\"> Non-trainable params: </span><span style=\"color: #00af00; text-decoration-color: #00af00\">0</span> (0.00 B)\n",
              "</pre>\n"
            ]
          },
          "metadata": {}
        },
        {
          "output_type": "stream",
          "name": "stdout",
          "text": [
            "None\n"
          ]
        }
      ],
      "source": [
        "model = Sequential()\n",
        "model.add(Embedding(max_fatures, embed_dim))\n",
        "model.add(SpatialDropout1D(0.4))\n",
        "model.add(Bidirectional(LSTM(lstm_out, dropout=0.2, recurrent_dropout=0.2)))\n",
        "model.add(Dense(3,activation='softmax'))\n",
        "model.compile(loss = 'categorical_crossentropy', optimizer='adam',metrics = ['accuracy'])\n",
        "print(model.summary())"
      ]
    },
    {
      "cell_type": "code",
      "execution_count": 18,
      "id": "d53e4ca8",
      "metadata": {
        "id": "d53e4ca8"
      },
      "outputs": [],
      "source": [
        "Y = pd.get_dummies(data['Y']).values"
      ]
    },
    {
      "cell_type": "code",
      "execution_count": 19,
      "id": "c01b2317",
      "metadata": {
        "colab": {
          "base_uri": "https://localhost:8080/"
        },
        "id": "c01b2317",
        "outputId": "7ff15615-3400-4c1d-bc01-7593c9e30b4e"
      },
      "outputs": [
        {
          "output_type": "execute_result",
          "data": {
            "text/plain": [
              "array([[False,  True, False],\n",
              "       [ True, False, False],\n",
              "       [ True, False, False],\n",
              "       ...,\n",
              "       [False, False,  True],\n",
              "       [False, False,  True],\n",
              "       [False, False,  True]])"
            ]
          },
          "metadata": {},
          "execution_count": 19
        }
      ],
      "source": [
        "Y"
      ]
    },
    {
      "cell_type": "code",
      "execution_count": 20,
      "id": "56c99b50",
      "metadata": {
        "colab": {
          "base_uri": "https://localhost:8080/"
        },
        "id": "56c99b50",
        "outputId": "27c9d089-d548-40a4-b418-0c6fab8dde9e"
      },
      "outputs": [
        {
          "output_type": "stream",
          "name": "stdout",
          "text": [
            "(1757, 100) (1757, 3)\n",
            "(311, 100) (311, 3)\n"
          ]
        }
      ],
      "source": [
        "pad_X_train, pad_X_test, Y_train, Y_test = train_test_split(pad_X,Y, test_size = 0.15, random_state = 42)\n",
        "print(pad_X_train.shape,Y_train.shape)\n",
        "print(pad_X_test.shape,Y_test.shape)"
      ]
    },
    {
      "cell_type": "code",
      "execution_count": 21,
      "id": "1b53341e",
      "metadata": {
        "id": "1b53341e"
      },
      "outputs": [],
      "source": [
        "# set aside 20% of train and test data for evaluation\n",
        "pad_X_train, pad_X_test, Y_train, Y_test = train_test_split(pad_X,Y,\n",
        "    test_size=0.2, shuffle = True, random_state = 8)"
      ]
    },
    {
      "cell_type": "code",
      "execution_count": 22,
      "id": "014f1400",
      "metadata": {
        "id": "014f1400"
      },
      "outputs": [],
      "source": [
        "# Use the same function above for the validation set\n",
        "# set aside 20% of train and test data for evaluation\n",
        "pad_X_train, X_val, Y_train, y_val = train_test_split(pad_X_train, Y_train,\n",
        "    test_size=0.25, random_state= 8) # 0.25 x 0.8 = 0.2"
      ]
    },
    {
      "cell_type": "code",
      "execution_count": 23,
      "id": "27da5e84",
      "metadata": {
        "colab": {
          "base_uri": "https://localhost:8080/"
        },
        "id": "27da5e84",
        "outputId": "ba55b801-3e43-466c-8a69-431241f53cf5"
      },
      "outputs": [
        {
          "output_type": "stream",
          "name": "stdout",
          "text": [
            "X_train shape: (1240, 100)\n",
            "X_test shape: (414, 100)\n",
            "y_train shape: (1240, 3)\n",
            "y_test shape: (414, 3)\n",
            "X_val shape: (1240, 3)\n",
            "y val shape: (414, 3)\n"
          ]
        }
      ],
      "source": [
        "print(\"X_train shape: {}\".format(pad_X_train.shape))\n",
        "print(\"X_test shape: {}\".format(pad_X_test.shape))\n",
        "print(\"y_train shape: {}\".format(Y_train.shape))\n",
        "print(\"y_test shape: {}\".format(Y_test.shape))\n",
        "print(\"X_val shape: {}\".format(Y_train.shape))\n",
        "print(\"y val shape: {}\".format(Y_test.shape))"
      ]
    },
    {
      "cell_type": "code",
      "execution_count": 24,
      "id": "c517dead",
      "metadata": {
        "colab": {
          "base_uri": "https://localhost:8080/"
        },
        "id": "c517dead",
        "outputId": "0151aca5-4aef-4056-d27f-4c71f50b38d0"
      },
      "outputs": [
        {
          "output_type": "stream",
          "name": "stdout",
          "text": [
            "Epoch 1/50\n",
            "33/33 - 43s - 1s/step - accuracy: 0.4127 - loss: 1.0700 - val_accuracy: 0.4194 - val_loss: 1.0432\n",
            "Epoch 2/50\n",
            "33/33 - 41s - 1s/step - accuracy: 0.5617 - loss: 0.9165 - val_accuracy: 0.6452 - val_loss: 0.8639\n",
            "Epoch 3/50\n",
            "33/33 - 40s - 1s/step - accuracy: 0.6831 - loss: 0.7523 - val_accuracy: 0.7043 - val_loss: 0.7396\n",
            "Epoch 4/50\n",
            "33/33 - 34s - 1s/step - accuracy: 0.7116 - loss: 0.6529 - val_accuracy: 0.6882 - val_loss: 0.7376\n",
            "Epoch 5/50\n",
            "33/33 - 40s - 1s/step - accuracy: 0.7514 - loss: 0.6092 - val_accuracy: 0.7258 - val_loss: 0.6962\n",
            "Epoch 6/50\n",
            "33/33 - 41s - 1s/step - accuracy: 0.7315 - loss: 0.6156 - val_accuracy: 0.6828 - val_loss: 0.7537\n",
            "Epoch 7/50\n",
            "33/33 - 41s - 1s/step - accuracy: 0.7372 - loss: 0.6141 - val_accuracy: 0.7204 - val_loss: 0.7073\n",
            "Epoch 8/50\n",
            "33/33 - 40s - 1s/step - accuracy: 0.7457 - loss: 0.5857 - val_accuracy: 0.6935 - val_loss: 0.7277\n",
            "Epoch 9/50\n",
            "33/33 - 34s - 1s/step - accuracy: 0.7543 - loss: 0.5737 - val_accuracy: 0.7204 - val_loss: 0.7188\n",
            "Epoch 10/50\n",
            "33/33 - 40s - 1s/step - accuracy: 0.7505 - loss: 0.5489 - val_accuracy: 0.7258 - val_loss: 0.7365\n",
            "Epoch 11/50\n",
            "33/33 - 34s - 1s/step - accuracy: 0.7827 - loss: 0.5417 - val_accuracy: 0.7312 - val_loss: 0.7092\n",
            "Epoch 12/50\n",
            "33/33 - 34s - 1s/step - accuracy: 0.7619 - loss: 0.5267 - val_accuracy: 0.7097 - val_loss: 0.7674\n",
            "Epoch 13/50\n",
            "33/33 - 43s - 1s/step - accuracy: 0.7609 - loss: 0.5295 - val_accuracy: 0.7151 - val_loss: 0.7540\n",
            "Epoch 14/50\n",
            "33/33 - 34s - 1s/step - accuracy: 0.7742 - loss: 0.5101 - val_accuracy: 0.7204 - val_loss: 0.7472\n",
            "Epoch 15/50\n",
            "33/33 - 41s - 1s/step - accuracy: 0.7713 - loss: 0.5168 - val_accuracy: 0.7204 - val_loss: 0.7558\n",
            "Epoch 16/50\n",
            "33/33 - 33s - 1s/step - accuracy: 0.7770 - loss: 0.5007 - val_accuracy: 0.7258 - val_loss: 0.7442\n",
            "Epoch 17/50\n",
            "33/33 - 34s - 1s/step - accuracy: 0.7922 - loss: 0.4905 - val_accuracy: 0.7473 - val_loss: 0.7595\n",
            "Epoch 18/50\n",
            "33/33 - 41s - 1s/step - accuracy: 0.7875 - loss: 0.4709 - val_accuracy: 0.7366 - val_loss: 0.7824\n",
            "Epoch 19/50\n",
            "33/33 - 40s - 1s/step - accuracy: 0.7875 - loss: 0.4791 - val_accuracy: 0.7634 - val_loss: 0.7336\n",
            "Epoch 20/50\n",
            "33/33 - 42s - 1s/step - accuracy: 0.7932 - loss: 0.4746 - val_accuracy: 0.7258 - val_loss: 0.7702\n",
            "Epoch 21/50\n",
            "33/33 - 42s - 1s/step - accuracy: 0.7865 - loss: 0.4578 - val_accuracy: 0.7366 - val_loss: 0.7878\n",
            "Epoch 22/50\n",
            "33/33 - 41s - 1s/step - accuracy: 0.7913 - loss: 0.4650 - val_accuracy: 0.7419 - val_loss: 0.7598\n",
            "Epoch 23/50\n",
            "33/33 - 35s - 1s/step - accuracy: 0.8046 - loss: 0.4418 - val_accuracy: 0.7366 - val_loss: 0.7826\n",
            "Epoch 24/50\n",
            "33/33 - 42s - 1s/step - accuracy: 0.7960 - loss: 0.4479 - val_accuracy: 0.7527 - val_loss: 0.7672\n",
            "Epoch 25/50\n",
            "33/33 - 34s - 1s/step - accuracy: 0.7989 - loss: 0.4373 - val_accuracy: 0.7581 - val_loss: 0.7703\n",
            "Epoch 26/50\n",
            "33/33 - 41s - 1s/step - accuracy: 0.8169 - loss: 0.4181 - val_accuracy: 0.7581 - val_loss: 0.7526\n",
            "Epoch 27/50\n",
            "33/33 - 33s - 993ms/step - accuracy: 0.7998 - loss: 0.4230 - val_accuracy: 0.7204 - val_loss: 0.8035\n",
            "Epoch 28/50\n",
            "33/33 - 34s - 1s/step - accuracy: 0.8169 - loss: 0.4228 - val_accuracy: 0.7419 - val_loss: 0.7982\n",
            "Epoch 29/50\n",
            "33/33 - 43s - 1s/step - accuracy: 0.8207 - loss: 0.4321 - val_accuracy: 0.7151 - val_loss: 0.8210\n",
            "Epoch 30/50\n",
            "33/33 - 35s - 1s/step - accuracy: 0.8178 - loss: 0.3999 - val_accuracy: 0.7097 - val_loss: 0.8399\n",
            "Epoch 31/50\n",
            "33/33 - 42s - 1s/step - accuracy: 0.8264 - loss: 0.3849 - val_accuracy: 0.7043 - val_loss: 0.8980\n",
            "Epoch 32/50\n",
            "33/33 - 34s - 1s/step - accuracy: 0.8292 - loss: 0.3937 - val_accuracy: 0.7043 - val_loss: 0.8449\n",
            "Epoch 33/50\n",
            "33/33 - 42s - 1s/step - accuracy: 0.8425 - loss: 0.3664 - val_accuracy: 0.7097 - val_loss: 0.8800\n",
            "Epoch 34/50\n",
            "33/33 - 41s - 1s/step - accuracy: 0.8425 - loss: 0.3638 - val_accuracy: 0.7097 - val_loss: 0.8834\n",
            "Epoch 35/50\n",
            "33/33 - 39s - 1s/step - accuracy: 0.8302 - loss: 0.3571 - val_accuracy: 0.6935 - val_loss: 0.8939\n",
            "Epoch 36/50\n",
            "33/33 - 42s - 1s/step - accuracy: 0.8444 - loss: 0.3672 - val_accuracy: 0.7151 - val_loss: 0.9151\n",
            "Epoch 37/50\n",
            "33/33 - 43s - 1s/step - accuracy: 0.8416 - loss: 0.3820 - val_accuracy: 0.7151 - val_loss: 0.8690\n",
            "Epoch 38/50\n",
            "33/33 - 42s - 1s/step - accuracy: 0.8539 - loss: 0.3496 - val_accuracy: 0.7043 - val_loss: 0.9087\n",
            "Epoch 39/50\n",
            "33/33 - 39s - 1s/step - accuracy: 0.8454 - loss: 0.3328 - val_accuracy: 0.6720 - val_loss: 0.9705\n",
            "Epoch 40/50\n",
            "33/33 - 40s - 1s/step - accuracy: 0.8444 - loss: 0.3456 - val_accuracy: 0.7151 - val_loss: 0.9534\n",
            "Epoch 41/50\n",
            "33/33 - 34s - 1s/step - accuracy: 0.8596 - loss: 0.3233 - val_accuracy: 0.7043 - val_loss: 0.9829\n",
            "Epoch 42/50\n",
            "33/33 - 41s - 1s/step - accuracy: 0.8548 - loss: 0.3348 - val_accuracy: 0.6774 - val_loss: 0.9686\n",
            "Epoch 43/50\n",
            "33/33 - 42s - 1s/step - accuracy: 0.8520 - loss: 0.3355 - val_accuracy: 0.6667 - val_loss: 1.0125\n",
            "Epoch 44/50\n",
            "33/33 - 40s - 1s/step - accuracy: 0.8586 - loss: 0.3166 - val_accuracy: 0.6989 - val_loss: 0.9435\n",
            "Epoch 45/50\n",
            "33/33 - 41s - 1s/step - accuracy: 0.8795 - loss: 0.2879 - val_accuracy: 0.6828 - val_loss: 1.0122\n",
            "Epoch 46/50\n",
            "33/33 - 42s - 1s/step - accuracy: 0.8672 - loss: 0.2932 - val_accuracy: 0.6720 - val_loss: 1.0425\n",
            "Epoch 47/50\n",
            "33/33 - 33s - 1s/step - accuracy: 0.8786 - loss: 0.2787 - val_accuracy: 0.6505 - val_loss: 1.1522\n",
            "Epoch 48/50\n",
            "33/33 - 34s - 1s/step - accuracy: 0.8776 - loss: 0.2913 - val_accuracy: 0.6935 - val_loss: 1.0647\n",
            "Epoch 49/50\n",
            "33/33 - 40s - 1s/step - accuracy: 0.8852 - loss: 0.2865 - val_accuracy: 0.6882 - val_loss: 1.0383\n",
            "Epoch 50/50\n",
            "33/33 - 41s - 1s/step - accuracy: 0.8824 - loss: 0.2712 - val_accuracy: 0.6613 - val_loss: 1.1597\n"
          ]
        }
      ],
      "source": [
        "history = model.fit(pad_X_train, Y_train, validation_split = 0.15, epochs = 50, verbose = 2)"
      ]
    },
    {
      "cell_type": "code",
      "source": [
        "from google.colab import drive\n",
        "drive.mount('/content/drive')"
      ],
      "metadata": {
        "colab": {
          "base_uri": "https://localhost:8080/"
        },
        "id": "xR4R3VK7u2No",
        "outputId": "95240107-54a7-4ad7-b87a-8378dfe0778f"
      },
      "id": "xR4R3VK7u2No",
      "execution_count": 27,
      "outputs": [
        {
          "output_type": "stream",
          "name": "stdout",
          "text": [
            "Mounted at /content/drive\n"
          ]
        }
      ]
    },
    {
      "cell_type": "code",
      "execution_count": 30,
      "id": "ed98560e",
      "metadata": {
        "id": "ed98560e"
      },
      "outputs": [],
      "source": [
        "model.save(\"/content/drive/MyDrive/Colab Notebooks/ARISB/ARISB_New_Data_Run.keras\")"
      ]
    },
    {
      "cell_type": "code",
      "execution_count": 39,
      "id": "267ac970",
      "metadata": {
        "id": "267ac970"
      },
      "outputs": [],
      "source": [
        "from tensorflow.keras.models import load_model\n",
        "model = load_model(\"/content/drive/MyDrive/Colab Notebooks/ARISB/ARISB_New_Data_Run.keras\")"
      ]
    },
    {
      "cell_type": "code",
      "execution_count": 40,
      "id": "5c599e07",
      "metadata": {
        "id": "5c599e07"
      },
      "outputs": [],
      "source": [
        "import matplotlib.pyplot as plt\n",
        "acc = history.history['accuracy']\n",
        "#val_acc = history.history['val_binary_accuracy']"
      ]
    },
    {
      "cell_type": "code",
      "execution_count": 41,
      "id": "3062886f",
      "metadata": {
        "id": "3062886f"
      },
      "outputs": [],
      "source": [
        "loss = history.history['loss']\n",
        "#val_loss = history.history['val_loss']"
      ]
    },
    {
      "cell_type": "code",
      "execution_count": 42,
      "id": "6a574d41",
      "metadata": {
        "id": "6a574d41"
      },
      "outputs": [],
      "source": [
        "val_acc = history.history['val_accuracy']"
      ]
    },
    {
      "cell_type": "code",
      "execution_count": 43,
      "id": "590c863e",
      "metadata": {
        "id": "590c863e"
      },
      "outputs": [],
      "source": [
        "epochs_range = range(50)"
      ]
    },
    {
      "cell_type": "code",
      "execution_count": 44,
      "id": "cd3c5159",
      "metadata": {
        "colab": {
          "base_uri": "https://localhost:8080/",
          "height": 408
        },
        "id": "cd3c5159",
        "outputId": "533529b7-a0df-40fe-87ae-f00407524454"
      },
      "outputs": [
        {
          "output_type": "execute_result",
          "data": {
            "text/plain": [
              "Text(0.5, 1.0, 'Training Accuracy')"
            ]
          },
          "metadata": {},
          "execution_count": 44
        },
        {
          "output_type": "display_data",
          "data": {
            "text/plain": [
              "<Figure size 1500x400 with 1 Axes>"
            ],
            "image/png": "[encoded data removed]"
          },
          "metadata": {}
        }
      ],
      "source": [
        "plt.figure(figsize=(15, 4))\n",
        "plt.subplot(1, 2, 1)\n",
        "plt.plot(epochs_range, acc, label='Training Accuracy')\n",
        "#plt.plot(epochs_range, val_acc, label='Validation Accuracy')\n",
        "plt.legend(loc='lower right')\n",
        "plt.title('Training Accuracy')"
      ]
    },
    {
      "cell_type": "code",
      "execution_count": 45,
      "id": "755c7289",
      "metadata": {
        "colab": {
          "base_uri": "https://localhost:8080/",
          "height": 452
        },
        "id": "755c7289",
        "outputId": "7d6577d6-2689-42c3-b98e-48d71c0dd3da"
      },
      "outputs": [
        {
          "output_type": "display_data",
          "data": {
            "text/plain": [
              "<Figure size 640x480 with 1 Axes>"
            ],
            "image/png": "[encoded data removed]"
          },
          "metadata": {}
        }
      ],
      "source": [
        "plt.subplot(1, 2, 2)\n",
        "plt.plot(epochs_range, val_acc, label='Validation Accuracy')\n",
        "plt.legend(loc='upper right')\n",
        "plt.title('Validation Accuracy')\n",
        "plt.show()"
      ]
    },
    {
      "cell_type": "code",
      "execution_count": 46,
      "id": "7b692857",
      "metadata": {
        "colab": {
          "base_uri": "https://localhost:8080/"
        },
        "id": "7b692857",
        "outputId": "1347baa1-a2d1-4f5a-825d-5475bef6790e"
      },
      "outputs": [
        {
          "output_type": "stream",
          "name": "stdout",
          "text": [
            "\u001b[1m13/13\u001b[0m \u001b[32m━━━━━━━━━━━━━━━━━━━━\u001b[0m\u001b[37m\u001b[0m \u001b[1m5s\u001b[0m 277ms/step\n"
          ]
        }
      ],
      "source": [
        "prediction = model.predict(pad_X_test)"
      ]
    },
    {
      "cell_type": "code",
      "execution_count": 47,
      "id": "803910a6",
      "metadata": {
        "colab": {
          "base_uri": "https://localhost:8080/"
        },
        "id": "803910a6",
        "outputId": "db5c8c6d-09b4-4e57-8132-ab6d8adfa177"
      },
      "outputs": [
        {
          "output_type": "execute_result",
          "data": {
            "text/plain": [
              "array([[3.52906674e-04, 5.97370490e-02, 9.39910054e-01],\n",
              "       [1.12384476e-01, 8.11686516e-01, 7.59290233e-02],\n",
              "       [5.68358410e-05, 8.38466704e-01, 1.61476433e-01],\n",
              "       ...,\n",
              "       [3.27175985e-05, 9.99944806e-01, 2.25619151e-05],\n",
              "       [1.59761385e-05, 3.33133177e-03, 9.96652663e-01],\n",
              "       [4.10450399e-02, 6.29540026e-01, 3.29414904e-01]], dtype=float32)"
            ]
          },
          "metadata": {},
          "execution_count": 47
        }
      ],
      "source": [
        "prediction"
      ]
    },
    {
      "cell_type": "code",
      "execution_count": 48,
      "id": "0dcb86af",
      "metadata": {
        "colab": {
          "base_uri": "https://localhost:8080/"
        },
        "id": "0dcb86af",
        "outputId": "d93521df-4197-4865-c22e-2f93ac185c39"
      },
      "outputs": [
        {
          "output_type": "stream",
          "name": "stdout",
          "text": [
            "[[0. 0. 1.]\n",
            " [0. 1. 0.]\n",
            " [0. 1. 0.]\n",
            " ...\n",
            " [0. 1. 0.]\n",
            " [0. 0. 1.]\n",
            " [0. 1. 0.]]\n",
            "              precision    recall  f1-score   support\n",
            "\n",
            "           0       0.77      0.66      0.71       124\n",
            "           1       0.65      0.70      0.68       157\n",
            "           2       0.68      0.61      0.64       133\n",
            "\n",
            "   micro avg       0.69      0.66      0.68       414\n",
            "   macro avg       0.70      0.66      0.68       414\n",
            "weighted avg       0.70      0.66      0.68       414\n",
            " samples avg       0.66      0.66      0.66       414\n",
            "\n"
          ]
        },
        {
          "output_type": "stream",
          "name": "stderr",
          "text": [
            "/usr/local/lib/python3.11/dist-packages/sklearn/metrics/_classification.py:1565: UndefinedMetricWarning: Precision is ill-defined and being set to 0.0 in samples with no predicted labels. Use `zero_division` parameter to control this behavior.\n",
            "  _warn_prf(average, modifier, f\"{metric.capitalize()} is\", len(result))\n"
          ]
        }
      ],
      "source": [
        "Prediction_Round = np.round(prediction)\n",
        "print(Prediction_Round)\n",
        "from sklearn.metrics import classification_report\n",
        "test_labels= Y_test\n",
        "print(classification_report(test_labels, Prediction_Round))"
      ]
    },
    {
      "cell_type": "code",
      "execution_count": 49,
      "id": "c8e06581",
      "metadata": {
        "colab": {
          "base_uri": "https://localhost:8080/",
          "height": 73
        },
        "id": "c8e06581",
        "outputId": "0ff432d0-dda6-4c0a-9430-da0cf422da05"
      },
      "outputs": [
        {
          "output_type": "display_data",
          "data": {
            "text/plain": [
              "<IPython.core.display.HTML object>"
            ],
            "text/html": [
              "\n",
              "     <input type=\"file\" id=\"files-f5cfc601-a03f-4aeb-bb05-4ccde9244c8f\" name=\"files[]\" multiple disabled\n",
              "        style=\"border:none\" />\n",
              "     <output id=\"result-f5cfc601-a03f-4aeb-bb05-4ccde9244c8f\">\n",
              "      Upload widget is only available when the cell has been executed in the\n",
              "      current browser session. Please rerun this cell to enable.\n",
              "      </output>\n",
              "      <script>// Copyright 2017 Google LLC\n",
              "//\n",
              "// Licensed under the Apache License, Version 2.0 (the \"License\");\n",
              "// you may not use this file except in compliance with the License.\n",
              "// You may obtain a copy of the License at\n",
              "//\n",
              "//      http://www.apache.org/licenses/LICENSE-2.0\n",
              "//\n",
              "// Unless required by applicable law or agreed to in writing, software\n",
              "// distributed under the License is distributed on an \"AS IS\" BASIS,\n",
              "// WITHOUT WARRANTIES OR CONDITIONS OF ANY KIND, either express or implied.\n",
              "// See the License for the specific language governing permissions and\n",
              "// limitations under the License.\n",
              "\n",
              "/**\n",
              " * @fileoverview Helpers for google.colab Python module.\n",
              " */\n",
              "(function(scope) {\n",
              "function span(text, styleAttributes = {}) {\n",
              "  const element = document.createElement('span');\n",
              "  element.textContent = text;\n",
              "  for (const key of Object.keys(styleAttributes)) {\n",
              "    element.style[key] = styleAttributes[key];\n",
              "  }\n",
              "  return element;\n",
              "}\n",
              "\n",
              "// Max number of bytes which will be uploaded at a time.\n",
              "const MAX_PAYLOAD_SIZE = 100 * 1024;\n",
              "\n",
              "function _uploadFiles(inputId, outputId) {\n",
              "  const steps = uploadFilesStep(inputId, outputId);\n",
              "  const outputElement = document.getElementById(outputId);\n",
              "  // Cache steps on the outputElement to make it available for the next call\n",
              "  // to uploadFilesContinue from Python.\n",
              "  outputElement.steps = steps;\n",
              "\n",
              "  return _uploadFilesContinue(outputId);\n",
              "}\n",
              "\n",
              "// This is roughly an async generator (not supported in the browser yet),\n",
              "// where there are multiple asynchronous steps and the Python side is going\n",
              "// to poll for completion of each step.\n",
              "// This uses a Promise to block the python side on completion of each step,\n",
              "// then passes the result of the previous step as the input to the next step.\n",
              "function _uploadFilesContinue(outputId) {\n",
              "  const outputElement = document.getElementById(outputId);\n",
              "  const steps = outputElement.steps;\n",
              "\n",
              "  const next = steps.next(outputElement.lastPromiseValue);\n",
              "  return Promise.resolve(next.value.promise).then((value) => {\n",
              "    // Cache the last promise value to make it available to the next\n",
              "    // step of the generator.\n",
              "    outputElement.lastPromiseValue = value;\n",
              "    return next.value.response;\n",
              "  });\n",
              "}\n",
              "\n",
              "/**\n",
              " * Generator function which is called between each async step of the upload\n",
              " * process.\n",
              " * @param {string} inputId Element ID of the input file picker element.\n",
              " * @param {string} outputId Element ID of the output display.\n",
              " * @return {!Iterable<!Object>} Iterable of next steps.\n",
              " */\n",
              "function* uploadFilesStep(inputId, outputId) {\n",
              "  const inputElement = document.getElementById(inputId);\n",
              "  inputElement.disabled = false;\n",
              "\n",
              "  const outputElement = document.getElementById(outputId);\n",
              "  outputElement.innerHTML = '';\n",
              "\n",
              "  const pickedPromise = new Promise((resolve) => {\n",
              "    inputElement.addEventListener('change', (e) => {\n",
              "      resolve(e.target.files);\n",
              "    });\n",
              "  });\n",
              "\n",
              "  const cancel = document.createElement('button');\n",
              "  inputElement.parentElement.appendChild(cancel);\n",
              "  cancel.textContent = 'Cancel upload';\n",
              "  const cancelPromise = new Promise((resolve) => {\n",
              "    cancel.onclick = () => {\n",
              "      resolve(null);\n",
              "    };\n",
              "  });\n",
              "\n",
              "  // Wait for the user to pick the files.\n",
              "  const files = yield {\n",
              "    promise: Promise.race([pickedPromise, cancelPromise]),\n",
              "    response: {\n",
              "      action: 'starting',\n",
              "    }\n",
              "  };\n",
              "\n",
              "  cancel.remove();\n",
              "\n",
              "  // Disable the input element since further picks are not allowed.\n",
              "  inputElement.disabled = true;\n",
              "\n",
              "  if (!files) {\n",
              "    return {\n",
              "      response: {\n",
              "        action: 'complete',\n",
              "      }\n",
              "    };\n",
              "  }\n",
              "\n",
              "  for (const file of files) {\n",
              "    const li = document.createElement('li');\n",
              "    li.append(span(file.name, {fontWeight: 'bold'}));\n",
              "    li.append(span(\n",
              "        `(${file.type || 'n/a'}) - ${file.size} bytes, ` +\n",
              "        `last modified: ${\n",
              "            file.lastModifiedDate ? file.lastModifiedDate.toLocaleDateString() :\n",
              "                                    'n/a'} - `));\n",
              "    const percent = span('0% done');\n",
              "    li.appendChild(percent);\n",
              "\n",
              "    outputElement.appendChild(li);\n",
              "\n",
              "    const fileDataPromise = new Promise((resolve) => {\n",
              "      const reader = new FileReader();\n",
              "      reader.onload = (e) => {\n",
              "        resolve(e.target.result);\n",
              "      };\n",
              "      reader.readAsArrayBuffer(file);\n",
              "    });\n",
              "    // Wait for the data to be ready.\n",
              "    let fileData = yield {\n",
              "      promise: fileDataPromise,\n",
              "      response: {\n",
              "        action: 'continue',\n",
              "      }\n",
              "    };\n",
              "\n",
              "    // Use a chunked sending to avoid message size limits. See b/62115660.\n",
              "    let position = 0;\n",
              "    do {\n",
              "      const length = Math.min(fileData.byteLength - position, MAX_PAYLOAD_SIZE);\n",
              "      const chunk = new Uint8Array(fileData, position, length);\n",
              "      position += length;\n",
              "\n",
              "      const base64 = btoa(String.fromCharCode.apply(null, chunk));\n",
              "      yield {\n",
              "        response: {\n",
              "          action: 'append',\n",
              "          file: file.name,\n",
              "          data: base64,\n",
              "        },\n",
              "      };\n",
              "\n",
              "      let percentDone = fileData.byteLength === 0 ?\n",
              "          100 :\n",
              "          Math.round((position / fileData.byteLength) * 100);\n",
              "      percent.textContent = `${percentDone}% done`;\n",
              "\n",
              "    } while (position < fileData.byteLength);\n",
              "  }\n",
              "\n",
              "  // All done.\n",
              "  yield {\n",
              "    response: {\n",
              "      action: 'complete',\n",
              "    }\n",
              "  };\n",
              "}\n",
              "\n",
              "scope.google = scope.google || {};\n",
              "scope.google.colab = scope.google.colab || {};\n",
              "scope.google.colab._files = {\n",
              "  _uploadFiles,\n",
              "  _uploadFilesContinue,\n",
              "};\n",
              "})(self);\n",
              "</script> "
            ]
          },
          "metadata": {}
        },
        {
          "output_type": "stream",
          "name": "stdout",
          "text": [
            "Saving NLP_Prediction_Data.xlsx to NLP_Prediction_Data.xlsx\n"
          ]
        }
      ],
      "source": [
        "from google.colab import files\n",
        "uploaded = files.upload()"
      ]
    },
    {
      "cell_type": "code",
      "execution_count": 50,
      "id": "53f3ed0e",
      "metadata": {
        "id": "53f3ed0e"
      },
      "outputs": [],
      "source": [
        "import io\n",
        "pred_data = pd.read_excel(io.BytesIO(uploaded['NLP_Prediction_Data.xlsx']))"
      ]
    },
    {
      "cell_type": "code",
      "execution_count": 51,
      "id": "862248d9",
      "metadata": {
        "id": "862248d9"
      },
      "outputs": [],
      "source": [
        "pred_data = pred_data[['X','Y']]"
      ]
    },
    {
      "cell_type": "code",
      "execution_count": 52,
      "id": "c1800ac7",
      "metadata": {
        "colab": {
          "base_uri": "https://localhost:8080/"
        },
        "id": "c1800ac7",
        "outputId": "c321a1c0-f921-45ad-cfbf-9e7b44f3ca97"
      },
      "outputs": [
        {
          "output_type": "stream",
          "name": "stdout",
          "text": [
            "0     I have a Ph.D in Computer Science, I am a lect...\n",
            "1              What a beautiful scene it is underwater!\n",
            "2                Yes sir, I attended both the meetings.\n",
            "3     Tomorrow at 5:30 P.M. I will be at the auditorium\n",
            "4               Do you know when the next train leaves?\n",
            "5     So these were general discussions but generall...\n",
            "6     Even after giving several reminders, how can s...\n",
            "7                                  This is so exciting!\n",
            "8                                No! This is impossible\n",
            "9                Jeepers! You scared the life out of me\n",
            "10    Was she really doing her job the best she coul...\n",
            "11                            Hello? I hope I'm audible\n",
            "Name: X, dtype: object\n"
          ]
        }
      ],
      "source": [
        "print(pred_data['X'])"
      ]
    },
    {
      "cell_type": "code",
      "execution_count": 53,
      "id": "6e53c9af",
      "metadata": {
        "id": "6e53c9af"
      },
      "outputs": [],
      "source": [
        "max_fatures = 100\n",
        "tokenizer = Tokenizer(num_words=max_fatures, split=' ')\n",
        "tokenizer.fit_on_texts(pred_data['X'].values)\n",
        "X = tokenizer.texts_to_sequences(pred_data['X'].values)\n",
        "pred_pad_X = pad_sequences(X, maxlen=100)"
      ]
    },
    {
      "cell_type": "code",
      "execution_count": 54,
      "id": "15547a5e",
      "metadata": {
        "colab": {
          "base_uri": "https://localhost:8080/"
        },
        "id": "15547a5e",
        "outputId": "2903e730-217e-4787-89e2-ede2247f46d5"
      },
      "outputs": [
        {
          "output_type": "execute_result",
          "data": {
            "text/plain": [
              "(12, 100)"
            ]
          },
          "metadata": {},
          "execution_count": 54
        }
      ],
      "source": [
        "pred_pad_X.shape"
      ]
    },
    {
      "cell_type": "code",
      "execution_count": 55,
      "id": "6ee5e7f4",
      "metadata": {
        "colab": {
          "base_uri": "https://localhost:8080/"
        },
        "id": "6ee5e7f4",
        "outputId": "20fad687-e34e-4617-a47f-20479ad4044c"
      },
      "outputs": [
        {
          "output_type": "stream",
          "name": "stdout",
          "text": [
            "[[ 0  0  0 ... 17  3 18]\n",
            " [ 0  0  0 ... 22  4 23]\n",
            " [ 0  0  0 ... 27  2 28]\n",
            " ...\n",
            " [ 0  0  0 ... 69 70 71]\n",
            " [ 0  0  0 ... 10 78 79]\n",
            " [ 0  0  0 ... 81 82 83]]\n"
          ]
        }
      ],
      "source": [
        "print(pred_pad_X)"
      ]
    },
    {
      "cell_type": "code",
      "execution_count": 56,
      "id": "a12811b1",
      "metadata": {
        "id": "a12811b1"
      },
      "outputs": [],
      "source": [
        "pred_Y = pd.get_dummies(pred_data['Y']).values"
      ]
    },
    {
      "cell_type": "code",
      "execution_count": 57,
      "id": "1916396f",
      "metadata": {
        "colab": {
          "base_uri": "https://localhost:8080/"
        },
        "id": "1916396f",
        "outputId": "8a6b58f8-6abe-47e4-d8d1-2a12da856a99"
      },
      "outputs": [
        {
          "output_type": "execute_result",
          "data": {
            "text/plain": [
              "array([[False,  True],\n",
              "       [ True, False],\n",
              "       [ True, False],\n",
              "       [False,  True],\n",
              "       [ True, False],\n",
              "       [ True, False],\n",
              "       [ True, False],\n",
              "       [ True, False],\n",
              "       [False,  True],\n",
              "       [False,  True],\n",
              "       [False,  True],\n",
              "       [False,  True]])"
            ]
          },
          "metadata": {},
          "execution_count": 57
        }
      ],
      "source": [
        "pred_Y"
      ]
    },
    {
      "cell_type": "code",
      "execution_count": 58,
      "id": "53728c33",
      "metadata": {
        "colab": {
          "base_uri": "https://localhost:8080/"
        },
        "id": "53728c33",
        "outputId": "9c1f0653-ff6d-49ae-c859-0e33c9d2e103"
      },
      "outputs": [
        {
          "output_type": "stream",
          "name": "stdout",
          "text": [
            "\u001b[1m1/1\u001b[0m \u001b[32m━━━━━━━━━━━━━━━━━━━━\u001b[0m\u001b[37m\u001b[0m \u001b[1m0s\u001b[0m 119ms/step\n"
          ]
        }
      ],
      "source": [
        "prediction = model.predict(pred_pad_X)"
      ]
    },
    {
      "cell_type": "code",
      "execution_count": 59,
      "id": "38184d4b",
      "metadata": {
        "colab": {
          "base_uri": "https://localhost:8080/"
        },
        "id": "38184d4b",
        "outputId": "8b9ce55a-95ef-4ccf-890a-ce2c896a5469"
      },
      "outputs": [
        {
          "output_type": "execute_result",
          "data": {
            "text/plain": [
              "array([[1.0088667e-01, 7.0337588e-01, 1.9573738e-01],\n",
              "       [1.5086211e-01, 7.3093522e-01, 1.1820272e-01],\n",
              "       [9.9992019e-01, 5.1503637e-05, 2.8210336e-05],\n",
              "       [1.1494261e-03, 9.7727450e-03, 9.8907775e-01],\n",
              "       [4.2887297e-02, 9.5520186e-01, 1.9108820e-03],\n",
              "       [8.2963800e-01, 1.6564049e-01, 4.7215568e-03],\n",
              "       [8.3213121e-01, 4.3544660e-06, 1.6786447e-01],\n",
              "       [1.7469540e-03, 8.8485962e-01, 1.1339347e-01],\n",
              "       [2.4405031e-02, 5.8832616e-01, 3.8726884e-01],\n",
              "       [3.4997630e-01, 6.3745862e-01, 1.2565053e-02],\n",
              "       [9.9466139e-01, 4.9409592e-03, 3.9768091e-04],\n",
              "       [3.9548720e-03, 6.4934349e-01, 3.4670168e-01]], dtype=float32)"
            ]
          },
          "metadata": {},
          "execution_count": 59
        }
      ],
      "source": [
        "prediction"
      ]
    },
    {
      "cell_type": "code",
      "execution_count": 62,
      "id": "00e1122a",
      "metadata": {
        "colab": {
          "base_uri": "https://localhost:8080/"
        },
        "id": "00e1122a",
        "outputId": "e3fd79dd-7aca-43bf-960a-623f5edfacac"
      },
      "outputs": [
        {
          "output_type": "stream",
          "name": "stdout",
          "text": [
            "[[0. 1. 0.]\n",
            " [0. 1. 0.]\n",
            " [1. 0. 0.]\n",
            " [0. 0. 1.]\n",
            " [0. 1. 0.]\n",
            " [1. 0. 0.]\n",
            " [1. 0. 0.]\n",
            " [0. 1. 0.]\n",
            " [0. 1. 0.]\n",
            " [0. 1. 0.]\n",
            " [1. 0. 0.]\n",
            " [0. 1. 0.]]\n",
            "              precision    recall  f1-score   support\n",
            "\n",
            "           0       0.75      0.50      0.60         6\n",
            "           1       0.57      0.67      0.62         6\n",
            "           2       0.00      0.00      0.00         0\n",
            "\n",
            "    accuracy                           0.58        12\n",
            "   macro avg       0.44      0.39      0.41        12\n",
            "weighted avg       0.66      0.58      0.61        12\n",
            "\n"
          ]
        }
      ],
      "source": [
        "Prediction_Round = np.round(prediction)\n",
        "print(Prediction_Round)\n",
        "from sklearn.metrics import classification_report\n",
        "\n",
        "true_labels = np.argmax(pred_Y, axis=1)\n",
        "pred_labels = np.argmax(Prediction_Round, axis=1)\n",
        "\n",
        "print(classification_report(true_labels, pred_labels, zero_division=0))"
      ]
    }
  ],
  "metadata": {
    "language": "python",
    "colab": {
      "provenance": [],
      "include_colab_link": true
    },
    "language_info": {
      "name": "python"
    },
    "kernelspec": {
      "name": "python3",
      "display_name": "Python 3"
    }
  },
  "nbformat": 4,
  "nbformat_minor": 5
}